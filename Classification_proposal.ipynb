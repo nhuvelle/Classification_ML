{
 "cells": [
  {
   "cell_type": "markdown",
   "id": "751163db",
   "metadata": {},
   "source": [
    "# Project Proposal"
   ]
  },
  {
   "cell_type": "markdown",
   "id": "e6b2f8cd",
   "metadata": {},
   "source": [
    "For my project I will be analyzing a dataset of anonymized credit card transactions labeled as fraudulent or genuine, pulled from Kaggle. After cleaning and doing EDA, I will implement logistic regression and other classification models to try to predict fraudulent transactions. I will also survey various merchants to find out how much money is spent on fraud detection and try to calculate roughly how much money is lost per yeay from fraud. \n",
    "    Depending on results, this project will be able to either offer a solid predictive model that businesses can use to detect fraud before accepting a transaction, or perhaps determine that enough money is wasted in this pursuit that perhaps using payment rails altogether might be helpful.\n",
    "    Note to my instructors: This was my back up plan. There is still a small chance I change my proposal before the weekend if I can find an appropriate dataset. "
   ]
  },
  {
   "cell_type": "code",
   "execution_count": null,
   "id": "ef5eaad3",
   "metadata": {},
   "outputs": [],
   "source": []
  }
 ],
 "metadata": {
  "kernelspec": {
   "display_name": "Python 3",
   "language": "python",
   "name": "python3"
  },
  "language_info": {
   "codemirror_mode": {
    "name": "ipython",
    "version": 3
   },
   "file_extension": ".py",
   "mimetype": "text/x-python",
   "name": "python",
   "nbconvert_exporter": "python",
   "pygments_lexer": "ipython3",
   "version": "3.8.10"
  }
 },
 "nbformat": 4,
 "nbformat_minor": 5
}
